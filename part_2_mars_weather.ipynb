{
 "cells": [
  {
   "cell_type": "markdown",
   "id": "c6cde919",
   "metadata": {},
   "source": [
    "# Part 2: Scrape and Analyze Mars Weather Data"
   ]
  },
  {
   "cell_type": "code",
   "execution_count": 2,
   "id": "b9fd403a",
   "metadata": {},
   "outputs": [],
   "source": [
    "from bs4 import BeautifulSoup\n",
    "import pandas as pd\n",
    "from splinter import Browser"
   ]
  },
  {
   "cell_type": "code",
   "execution_count": 3,
   "id": "31434cf8",
   "metadata": {},
   "outputs": [],
   "source": [
    "# URL to scrape\n",
    "url = 'https://static.bc-edx.com/data/web/mars_facts/temperature.html'\n",
    "\n",
    "# Define the browser to utilize\n",
    "browser = Browser('chrome')\n",
    "\n",
    "# Visit the browser\n",
    "browser.visit(url)\n",
    "\n",
    "# Return all the HTML on our page\n",
    "html = browser.html\n",
    "\n",
    "# Create BeautifulSoup object; parse with 'html.parser'\n",
    "soup = BeautifulSoup(html, \"html.parser\")"
   ]
  },
  {
   "cell_type": "code",
   "execution_count": 5,
   "id": "e64a1c7c",
   "metadata": {},
   "outputs": [],
   "source": [
    "# Find the table\n",
    "table = soup.find('table', class_='table')"
   ]
  },
  {
   "cell_type": "code",
   "execution_count": 22,
   "id": "46406f66",
   "metadata": {},
   "outputs": [
    {
     "name": "stdout",
     "output_type": "stream",
     "text": [
      "      0       1   2                   3   4       5   6      7   8        9   \\\n",
      "0     \\n    [id]  \\n  [terrestrial_date]  \\n   [sol]  \\n   [ls]  \\n  [month]   \n",
      "1     \\n     [2]  \\n        [2012-08-16]  \\n    [10]  \\n  [155]  \\n      [6]   \n",
      "2     \\n    [13]  \\n        [2012-08-17]  \\n    [11]  \\n  [156]  \\n      [6]   \n",
      "3     \\n    [24]  \\n        [2012-08-18]  \\n    [12]  \\n  [156]  \\n      [6]   \n",
      "4     \\n    [35]  \\n        [2012-08-19]  \\n    [13]  \\n  [157]  \\n      [6]   \n",
      "...   ..     ...  ..                 ...  ..     ...  ..    ...  ..      ...   \n",
      "1863  \\n  [1889]  \\n        [2018-02-23]  \\n  [1973]  \\n  [133]  \\n      [5]   \n",
      "1864  \\n  [1892]  \\n        [2018-02-24]  \\n  [1974]  \\n  [134]  \\n      [5]   \n",
      "1865  \\n  [1894]  \\n        [2018-02-25]  \\n  [1975]  \\n  [134]  \\n      [5]   \n",
      "1866  \\n  [1893]  \\n        [2018-02-26]  \\n  [1976]  \\n  [135]  \\n      [5]   \n",
      "1867  \\n  [1895]  \\n        [2018-02-27]  \\n  [1977]  \\n  [135]  \\n      [5]   \n",
      "\n",
      "      10          11  12          13  14  \n",
      "0     \\n  [min_temp]  \\n  [pressure]  \\n  \n",
      "1     \\n     [-75.0]  \\n     [739.0]  \\n  \n",
      "2     \\n     [-76.0]  \\n     [740.0]  \\n  \n",
      "3     \\n     [-76.0]  \\n     [741.0]  \\n  \n",
      "4     \\n     [-74.0]  \\n     [732.0]  \\n  \n",
      "...   ..         ...  ..         ...  ..  \n",
      "1863  \\n     [-78.0]  \\n     [730.0]  \\n  \n",
      "1864  \\n     [-77.0]  \\n     [729.0]  \\n  \n",
      "1865  \\n     [-76.0]  \\n     [729.0]  \\n  \n",
      "1866  \\n     [-77.0]  \\n     [728.0]  \\n  \n",
      "1867  \\n     [-77.0]  \\n     [727.0]  \\n  \n",
      "\n",
      "[1868 rows x 15 columns]\n"
     ]
    },
    {
     "name": "stderr",
     "output_type": "stream",
     "text": [
      "C:\\Users\\mochi\\anaconda3\\lib\\site-packages\\pandas\\core\\internals\\construction.py:576: VisibleDeprecationWarning: Creating an ndarray from ragged nested sequences (which is a list-or-tuple of lists-or-tuples-or ndarrays with different lengths or shapes) is deprecated. If you meant to do this, you must specify 'dtype=object' when creating the ndarray.\n",
      "  values = np.array([convert(v) for v in values])\n"
     ]
    }
   ],
   "source": [
    "# Store the table\n",
    "mars = []\n",
    "rows = table.find_all('tr')\n",
    "\n",
    "\n",
    "# Loop through the rows\n",
    "\n",
    "df = pd.DataFrame(rows)\n",
    "print(df)"
   ]
  },
  {
   "cell_type": "code",
   "execution_count": null,
   "id": "6a9e21fd",
   "metadata": {},
   "outputs": [],
   "source": []
  }
 ],
 "metadata": {
  "kernelspec": {
   "display_name": "Python 3 (ipykernel)",
   "language": "python",
   "name": "python3"
  },
  "language_info": {
   "codemirror_mode": {
    "name": "ipython",
    "version": 3
   },
   "file_extension": ".py",
   "mimetype": "text/x-python",
   "name": "python",
   "nbconvert_exporter": "python",
   "pygments_lexer": "ipython3",
   "version": "3.9.13"
  }
 },
 "nbformat": 4,
 "nbformat_minor": 5
}
